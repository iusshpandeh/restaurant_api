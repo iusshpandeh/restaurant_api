{
 "cells": [
  {
   "cell_type": "code",
   "execution_count": 214,
   "id": "1ed02f1e",
   "metadata": {},
   "outputs": [],
   "source": [
    "import re\n",
    "import csv\n",
    "\n",
    "CSV_FILE_NAME = \"restaurants.csv\""
   ]
  },
  {
   "cell_type": "code",
   "execution_count": 216,
   "id": "a40e1c46",
   "metadata": {},
   "outputs": [],
   "source": [
    "all_restaurant_record = {}\n",
    "with open(CSV_FILE_NAME, 'r') as csvfile:\n",
    "            reader = csv.DictReader(csvfile)\n",
    "            for row in reader:\n",
    "                hours = row['Hours'].split(\"/\")\n",
    "                rest_name = row['Restaurant Name']\n",
    "                days_pattern = re.compile(r'(Mon|Tues|Wed|Thu|Fri|Sat|Sun)')\n",
    "                curr_record = {}\n",
    "                for h in hours:\n",
    "                    ranged_days = re.search(r'([a-zA-Z]+)-([a-zA-Z]+)', h)\n",
    "                    if ranged_days:\n",
    "                        start_day, end_day = ranged_days.groups()\n",
    "                        filled_in_days = get_missing_days(start_day, end_day)\n",
    "\n",
    "                        for d in days_pattern.findall(h):\n",
    "                            if d not in filled_in_days:\n",
    "                                filled_in_days.append(d)\n",
    "\n",
    "                        curr_all_days = filled_in_days\n",
    "\n",
    "\n",
    "                    else:\n",
    "                        curr_all_days = days_pattern.findall(h)\n",
    "\n",
    "\n",
    "\n",
    "                    time_begins_at = re.search(r'\\d', h).start()\n",
    "                    time_string = h[time_begins_at:]\n",
    "\n",
    "                    start_time = convert_to_24_hour_format(time_string.split(\"-\")[0].strip())\n",
    "                    end_time = convert_to_24_hour_format(time_string.split(\"-\")[1].strip())\n",
    "\n",
    "                    curr_record.update({day: {\"open\": start_time, \"close\": end_time} for day in curr_all_days})\n",
    "                all_restaurant_record.update({rest_name:curr_record})"
   ]
  },
  {
   "cell_type": "code",
   "execution_count": 217,
   "id": "abd80ed1",
   "metadata": {},
   "outputs": [
    {
     "data": {
      "text/plain": [
       "{'The Cowfish Sushi Burger Bar': {'Mon': {'open': '11:00:00',\n",
       "   'close': '22:00:00'},\n",
       "  'Sun': {'open': '11:00:00', 'close': '22:00:00'}},\n",
       " 'Morgan St Food Hall': {'Mon': {'open': '11:00:00', 'close': '21:30:00'},\n",
       "  'Sun': {'open': '11:00:00', 'close': '21:30:00'}},\n",
       " \"Beasley's Chicken + Honey\": {'Mon': {'open': '11:00:00',\n",
       "   'close': '12:00:00'},\n",
       "  'Tues': {'open': '11:00:00', 'close': '12:00:00'},\n",
       "  'Wed': {'open': '11:00:00', 'close': '12:00:00'},\n",
       "  'Thu': {'open': '11:00:00', 'close': '12:00:00'},\n",
       "  'Fri': {'open': '11:00:00', 'close': '12:00:00'},\n",
       "  'Sat': {'open': '11:00:00', 'close': '12:00:00'},\n",
       "  'Sun': {'open': '11:00:00', 'close': '22:00:00'}},\n",
       " 'Garland': {'Tues': {'open': '11:30:00', 'close': '22:00:00'},\n",
       "  'Wed': {'open': '11:30:00', 'close': '22:00:00'},\n",
       "  'Thu': {'open': '11:30:00', 'close': '22:00:00'},\n",
       "  'Fri': {'open': '11:30:00', 'close': '22:00:00'},\n",
       "  'Sun': {'open': '11:30:00', 'close': '22:00:00'},\n",
       "  'Sat': {'open': '17:30:00', 'close': '23:00:00'}},\n",
       " 'Crawford and Son': {'Mon': {'open': '11:30:00', 'close': '22:00:00'},\n",
       "  'Sun': {'open': '11:30:00', 'close': '22:00:00'}},\n",
       " 'Death and Taxes': {'Mon': {'open': '17:00:00', 'close': '22:00:00'},\n",
       "  'Sun': {'open': '17:00:00', 'close': '22:00:00'}},\n",
       " 'Caffe Luna': {'Mon': {'open': '11:00:00', 'close': '00:00:00'},\n",
       "  'Sun': {'open': '11:00:00', 'close': '00:00:00'}},\n",
       " 'Bida Manda': {'Mon': {'open': '11:30:00', 'close': '22:00:00'},\n",
       "  'Tues': {'open': '11:30:00', 'close': '22:00:00'},\n",
       "  'Wed': {'open': '11:30:00', 'close': '22:00:00'},\n",
       "  'Thu': {'open': '11:30:00', 'close': '22:00:00'},\n",
       "  'Sun': {'open': '11:30:00', 'close': '22:00:00'},\n",
       "  'Fri': {'open': '11:30:00', 'close': '23:00:00'},\n",
       "  'Sat': {'open': '11:30:00', 'close': '23:00:00'}},\n",
       " 'The Cheesecake Factory': {'Mon': {'open': '11:00:00', 'close': '23:00:00'},\n",
       "  'Tues': {'open': '11:00:00', 'close': '23:00:00'},\n",
       "  'Wed': {'open': '11:00:00', 'close': '23:00:00'},\n",
       "  'Thu': {'open': '11:00:00', 'close': '23:00:00'},\n",
       "  'Fri': {'open': '11:00:00', 'close': '00:30:00'},\n",
       "  'Sat': {'open': '11:00:00', 'close': '00:30:00'},\n",
       "  'Sun': {'open': '10:00:00', 'close': '23:00:00'}},\n",
       " 'Tupelo Honey': {'Mon': {'open': '09:00:00', 'close': '22:00:00'},\n",
       "  'Tues': {'open': '09:00:00', 'close': '22:00:00'},\n",
       "  'Wed': {'open': '09:00:00', 'close': '22:00:00'},\n",
       "  'Thu': {'open': '09:00:00', 'close': '22:00:00'},\n",
       "  'Sun': {'open': '09:00:00', 'close': '22:00:00'},\n",
       "  'Fri': {'open': '09:00:00', 'close': '23:00:00'},\n",
       "  'Sat': {'open': '09:00:00', 'close': '23:00:00'}},\n",
       " \"Player's Retreat\": {'Mon': {'open': '11:30:00', 'close': '21:30:00'},\n",
       "  'Tues': {'open': '11:30:00', 'close': '21:30:00'},\n",
       "  'Wed': {'open': '11:30:00', 'close': '21:30:00'},\n",
       "  'Thu': {'open': '11:30:00', 'close': '21:30:00'},\n",
       "  'Sun': {'open': '11:30:00', 'close': '21:30:00'},\n",
       "  'Fri': {'open': '11:30:00', 'close': '22:00:00'},\n",
       "  'Sat': {'open': '11:30:00', 'close': '22:00:00'}},\n",
       " 'Glenwood Grill': {'Mon': {'open': '11:00:00', 'close': '23:00:00'},\n",
       "  'Tues': {'open': '11:00:00', 'close': '23:00:00'},\n",
       "  'Wed': {'open': '11:00:00', 'close': '23:00:00'},\n",
       "  'Thu': {'open': '11:00:00', 'close': '23:00:00'},\n",
       "  'Fri': {'open': '11:00:00', 'close': '23:00:00'},\n",
       "  'Sat': {'open': '11:00:00', 'close': '23:00:00'},\n",
       "  'Sun': {'open': '11:00:00', 'close': '22:00:00'}},\n",
       " 'Neomonde': {'Mon': {'open': '11:30:00', 'close': '22:00:00'},\n",
       "  'Tues': {'open': '11:30:00', 'close': '22:00:00'},\n",
       "  'Wed': {'open': '11:30:00', 'close': '22:00:00'},\n",
       "  'Thu': {'open': '11:30:00', 'close': '22:00:00'},\n",
       "  'Fri': {'open': '11:30:00', 'close': '23:00:00'},\n",
       "  'Sun': {'open': '11:30:00', 'close': '23:00:00'}},\n",
       " 'Page Road Grill': {'Mon': {'open': '11:00:00', 'close': '23:00:00'},\n",
       "  'Sun': {'open': '11:00:00', 'close': '23:00:00'}},\n",
       " 'Mez Mexican': {'Mon': {'open': '10:30:00', 'close': '21:30:00'},\n",
       "  'Tues': {'open': '10:30:00', 'close': '21:30:00'},\n",
       "  'Wed': {'open': '10:30:00', 'close': '21:30:00'},\n",
       "  'Thu': {'open': '10:30:00', 'close': '21:30:00'},\n",
       "  'Fri': {'open': '10:30:00', 'close': '21:30:00'},\n",
       "  'Sat': {'open': '10:00:00', 'close': '21:30:00'},\n",
       "  'Sun': {'open': '10:00:00', 'close': '21:30:00'}},\n",
       " 'Saltbox': {'Mon': {'open': '11:30:00', 'close': '22:30:00'},\n",
       "  'Sun': {'open': '11:30:00', 'close': '22:30:00'}},\n",
       " 'El Rodeo': {'Mon': {'open': '11:00:00', 'close': '22:30:00'},\n",
       "  'Sun': {'open': '11:00:00', 'close': '22:30:00'}},\n",
       " 'Provence': {'Mon': {'open': '11:30:00', 'close': '21:00:00'},\n",
       "  'Tues': {'open': '11:30:00', 'close': '21:00:00'},\n",
       "  'Wed': {'open': '11:30:00', 'close': '21:00:00'},\n",
       "  'Thu': {'open': '11:30:00', 'close': '21:00:00'},\n",
       "  'Sun': {'open': '11:30:00', 'close': '21:00:00'},\n",
       "  'Fri': {'open': '11:30:00', 'close': '22:00:00'},\n",
       "  'Sat': {'open': '11:30:00', 'close': '22:00:00'}},\n",
       " 'Bonchon': {'Mon': {'open': '17:00:00', 'close': '00:30:00'},\n",
       "  'Tues': {'open': '17:00:00', 'close': '00:30:00'},\n",
       "  'Wed': {'open': '17:00:00', 'close': '00:30:00'},\n",
       "  'Thu': {'open': '17:00:00', 'close': '01:30:00'},\n",
       "  'Fri': {'open': '17:00:00', 'close': '01:30:00'},\n",
       "  'Sat': {'open': '15:00:00', 'close': '01:30:00'},\n",
       "  'Sun': {'open': '15:00:00', 'close': '23:30:00'}},\n",
       " 'Tazza Kitchen': {'Mon': {'open': '11:00:00', 'close': '22:00:00'},\n",
       "  'Sun': {'open': '11:00:00', 'close': '22:00:00'}},\n",
       " 'Mandolin': {'Mon': {'open': '11:00:00', 'close': '22:00:00'},\n",
       "  'Tues': {'open': '11:00:00', 'close': '22:00:00'},\n",
       "  'Wed': {'open': '11:00:00', 'close': '22:00:00'},\n",
       "  'Thu': {'open': '11:00:00', 'close': '22:00:00'},\n",
       "  'Fri': {'open': '10:00:00', 'close': '22:30:00'},\n",
       "  'Sat': {'open': '10:00:00', 'close': '22:30:00'},\n",
       "  'Sun': {'open': '11:00:00', 'close': '23:00:00'}},\n",
       " \"Mami Nora's\": {'Mon': {'open': '11:00:00', 'close': '22:00:00'},\n",
       "  'Tues': {'open': '11:00:00', 'close': '22:00:00'},\n",
       "  'Wed': {'open': '11:00:00', 'close': '22:00:00'},\n",
       "  'Thu': {'open': '11:00:00', 'close': '22:00:00'},\n",
       "  'Fri': {'open': '11:00:00', 'close': '22:00:00'},\n",
       "  'Sat': {'open': '11:00:00', 'close': '22:00:00'},\n",
       "  'Sun': {'open': '12:00:00', 'close': '22:00:00'}},\n",
       " 'Gravy': {'Mon': {'open': '11:00:00', 'close': '22:00:00'},\n",
       "  'Sun': {'open': '11:00:00', 'close': '22:00:00'}},\n",
       " 'Taverna Agora': {'Mon': {'open': '11:00:00', 'close': '22:00:00'},\n",
       "  'Tues': {'open': '11:00:00', 'close': '22:00:00'},\n",
       "  'Wed': {'open': '11:00:00', 'close': '22:00:00'},\n",
       "  'Thu': {'open': '11:00:00', 'close': '22:00:00'},\n",
       "  'Sun': {'open': '11:00:00', 'close': '22:00:00'},\n",
       "  'Fri': {'open': '11:00:00', 'close': '00:00:00'},\n",
       "  'Sat': {'open': '11:00:00', 'close': '00:00:00'}},\n",
       " 'Char Grill': {'Mon': {'open': '11:30:00', 'close': '22:00:00'},\n",
       "  'Tues': {'open': '11:30:00', 'close': '22:00:00'},\n",
       "  'Wed': {'open': '11:30:00', 'close': '22:00:00'},\n",
       "  'Thu': {'open': '11:30:00', 'close': '22:00:00'},\n",
       "  'Fri': {'open': '11:30:00', 'close': '22:00:00'},\n",
       "  'Sat': {'open': '07:00:00', 'close': '15:00:00'},\n",
       "  'Sun': {'open': '07:00:00', 'close': '15:00:00'}},\n",
       " 'Seoul 116': {'Mon': {'open': '11:00:00', 'close': '04:00:00'},\n",
       "  'Sun': {'open': '11:00:00', 'close': '04:00:00'}},\n",
       " 'Whiskey Kitchen': {'Mon': {'open': '11:30:00', 'close': '22:00:00'},\n",
       "  'Tues': {'open': '11:30:00', 'close': '22:00:00'},\n",
       "  'Wed': {'open': '11:30:00', 'close': '22:00:00'},\n",
       "  'Thu': {'open': '11:30:00', 'close': '22:00:00'},\n",
       "  'Sun': {'open': '11:30:00', 'close': '22:00:00'},\n",
       "  'Fri': {'open': '11:30:00', 'close': '23:00:00'},\n",
       "  'Sat': {'open': '11:30:00', 'close': '23:00:00'}},\n",
       " 'Sitti': {'Mon': {'open': '11:30:00', 'close': '21:30:00'},\n",
       "  'Sun': {'open': '11:30:00', 'close': '21:30:00'}},\n",
       " 'Stanbury': {'Mon': {'open': '11:00:00', 'close': '00:00:00'},\n",
       "  'Sun': {'open': '11:00:00', 'close': '00:00:00'}},\n",
       " 'Yard House': {'Mon': {'open': '11:30:00', 'close': '22:00:00'},\n",
       "  'Sun': {'open': '11:30:00', 'close': '22:00:00'}},\n",
       " \"David's Dumpling\": {'Mon': {'open': '11:30:00', 'close': '22:00:00'},\n",
       "  'Tues': {'open': '11:30:00', 'close': '22:00:00'},\n",
       "  'Wed': {'open': '11:30:00', 'close': '22:00:00'},\n",
       "  'Thu': {'open': '11:30:00', 'close': '22:00:00'},\n",
       "  'Fri': {'open': '11:30:00', 'close': '22:00:00'},\n",
       "  'Sat': {'open': '11:30:00', 'close': '22:00:00'},\n",
       "  'Sun': {'open': '17:30:00', 'close': '22:00:00'}},\n",
       " 'Gringo a Gogo': {'Mon': {'open': '11:00:00', 'close': '23:00:00'},\n",
       "  'Sun': {'open': '11:00:00', 'close': '23:00:00'}},\n",
       " 'Centro': {'Mon': {'open': '11:00:00', 'close': '22:00:00'},\n",
       "  'Wed': {'open': '11:00:00', 'close': '22:00:00'},\n",
       "  'Sun': {'open': '11:00:00', 'close': '22:00:00'}},\n",
       " 'Brewery Bhavana': {'Mon': {'open': '11:00:00', 'close': '22:30:00'},\n",
       "  'Sun': {'open': '11:00:00', 'close': '22:30:00'}},\n",
       " 'Dashi': {'Mon': {'open': '10:00:00', 'close': '21:30:00'},\n",
       "  'Tues': {'open': '10:00:00', 'close': '21:30:00'},\n",
       "  'Wed': {'open': '10:00:00', 'close': '21:30:00'},\n",
       "  'Thu': {'open': '10:00:00', 'close': '21:30:00'},\n",
       "  'Fri': {'open': '10:00:00', 'close': '21:30:00'},\n",
       "  'Sat': {'open': '09:30:00', 'close': '21:30:00'},\n",
       "  'Sun': {'open': '09:30:00', 'close': '21:30:00'}},\n",
       " '42nd Street Oyster Bar': {'Mon': {'open': '11:00:00', 'close': '00:00:00'},\n",
       "  'Tues': {'open': '11:00:00', 'close': '00:00:00'},\n",
       "  'Wed': {'open': '11:00:00', 'close': '00:00:00'},\n",
       "  'Thu': {'open': '11:00:00', 'close': '00:00:00'},\n",
       "  'Fri': {'open': '11:00:00', 'close': '00:00:00'},\n",
       "  'Sat': {'open': '11:00:00', 'close': '00:00:00'},\n",
       "  'Sun': {'open': '12:00:00', 'close': '02:00:00'}},\n",
       " 'Top of the Hill': {'Mon': {'open': '11:00:00', 'close': '21:00:00'},\n",
       "  'Tues': {'open': '11:00:00', 'close': '21:00:00'},\n",
       "  'Wed': {'open': '11:00:00', 'close': '21:00:00'},\n",
       "  'Thu': {'open': '11:00:00', 'close': '21:00:00'},\n",
       "  'Fri': {'open': '11:00:00', 'close': '21:00:00'},\n",
       "  'Sat': {'open': '17:00:00', 'close': '21:00:00'}},\n",
       " 'Jose and Sons': {'Mon': {'open': '11:30:00', 'close': '22:00:00'},\n",
       "  'Tues': {'open': '11:30:00', 'close': '22:00:00'},\n",
       "  'Wed': {'open': '11:30:00', 'close': '22:00:00'},\n",
       "  'Thu': {'open': '11:30:00', 'close': '22:00:00'},\n",
       "  'Fri': {'open': '11:30:00', 'close': '22:00:00'},\n",
       "  'Sat': {'open': '17:30:00', 'close': '22:00:00'}},\n",
       " 'Oakleaf': {'Mon': {'open': '11:00:00', 'close': '22:00:00'},\n",
       "  'Tues': {'open': '11:00:00', 'close': '22:00:00'},\n",
       "  'Wed': {'open': '11:00:00', 'close': '22:00:00'},\n",
       "  'Thu': {'open': '11:00:00', 'close': '22:00:00'},\n",
       "  'Sun': {'open': '11:00:00', 'close': '22:00:00'},\n",
       "  'Fri': {'open': '11:00:00', 'close': '23:00:00'},\n",
       "  'Sat': {'open': '11:00:00', 'close': '23:00:00'}},\n",
       " 'Second Empire': {'Mon': {'open': '11:00:00', 'close': '22:00:00'},\n",
       "  'Tues': {'open': '11:00:00', 'close': '22:00:00'},\n",
       "  'Wed': {'open': '11:00:00', 'close': '22:00:00'},\n",
       "  'Thu': {'open': '11:00:00', 'close': '22:00:00'},\n",
       "  'Fri': {'open': '11:00:00', 'close': '22:00:00'},\n",
       "  'Sat': {'open': '17:00:00', 'close': '22:00:00'},\n",
       "  'Sun': {'open': '17:00:00', 'close': '22:00:00'}}}"
      ]
     },
     "execution_count": 217,
     "metadata": {},
     "output_type": "execute_result"
    }
   ],
   "source": [
    "all_restaurant_record"
   ]
  },
  {
   "cell_type": "code",
   "execution_count": 8,
   "id": "1e9d8086",
   "metadata": {},
   "outputs": [],
   "source": [
    "from datetime import datetime, timedelta"
   ]
  },
  {
   "cell_type": "code",
   "execution_count": 11,
   "id": "55f81e87",
   "metadata": {},
   "outputs": [],
   "source": [
    "row = \"The Cheesecake Factory\",\"Mon-Thu 11 am - 11 pm  / Fri-Sat 11 am - 12:30 am  / Sun 10 am - 11 pm\""
   ]
  },
  {
   "cell_type": "code",
   "execution_count": 15,
   "id": "dd81b8aa",
   "metadata": {},
   "outputs": [],
   "source": [
    "row = {'Restaurant Name': \"The Cheesecake Factory\", 'Hours': 'Mon-Thu 11 am - 11 pm  / Fri-Sat 11 am - 12:30 am  / Sun 10 am - 11 pm'}"
   ]
  },
  {
   "cell_type": "code",
   "execution_count": 18,
   "id": "dd648138",
   "metadata": {},
   "outputs": [],
   "source": [
    "open_hours = {}"
   ]
  },
  {
   "cell_type": "code",
   "execution_count": 23,
   "id": "69b2b926",
   "metadata": {},
   "outputs": [
    {
     "name": "stdout",
     "output_type": "stream",
     "text": [
      "Mon-Thu 11 am - 11 pm\n",
      "['Mon-Thu', '11', 'am', '-', '11', 'pm']\n",
      "Fri-Sat 11 am - 12:30 am\n",
      "['Fri-Sat', '11', 'am', '-', '12:30', 'am']\n",
      "Sun 10 am - 11 pm\n",
      "['Sun', '10', 'am', '-', '11', 'pm']\n"
     ]
    }
   ],
   "source": [
    "for h in row['Hours'].split(\"/\"):\n",
    "    print(h.strip())\n",
    "    print(h.strip().split(\" \"))"
   ]
  },
  {
   "cell_type": "code",
   "execution_count": null,
   "id": "924f8809",
   "metadata": {},
   "outputs": [],
   "source": []
  },
  {
   "cell_type": "code",
   "execution_count": 38,
   "id": "8ee6ab79",
   "metadata": {},
   "outputs": [],
   "source": [
    "all_days = ['Sun', 'Mon', 'Tue', 'Wed', 'Thu', 'Fri', 'Sat']"
   ]
  },
  {
   "cell_type": "code",
   "execution_count": 50,
   "id": "eca8c065",
   "metadata": {},
   "outputs": [
    {
     "name": "stdout",
     "output_type": "stream",
     "text": [
      "Mon-Thu 11 am - 11 pm  \n",
      "['Mon', 'Thu']\n"
     ]
    }
   ],
   "source": [
    "days_pattern = re.compile(r'(Mon|Tue|Wed|Thu|Fri|Sat|Sun)')\n",
    "time_pattern = re.compile(r'(\\d{1,2}:\\d{2} [apm. ]{2}) - (\\d{1,2}:\\d{2} [apm. ]{2})')\n",
    "\n",
    "\n",
    "opening_hours = {}\n",
    "\n",
    "# Split the string by '/'\n",
    "periods = row['Hours'].split('/')\n",
    "\n",
    "for period in periods:\n",
    "    print(period)\n",
    "    days_match = days_pattern.findall(period)\n",
    "    time_match = time_pattern.findall(period)\n",
    "    \n",
    "    print(days_match)\n",
    "    break\n",
    "\n",
    "\n",
    "#     if days_match and time_match:\n",
    "#         for day in days_match:\n",
    "#             opening_hours[day] = time_match"
   ]
  },
  {
   "cell_type": "code",
   "execution_count": 42,
   "id": "e89a3519",
   "metadata": {},
   "outputs": [
    {
     "data": {
      "text/plain": [
       "['Mon', 'Thu']"
      ]
     },
     "execution_count": 42,
     "metadata": {},
     "output_type": "execute_result"
    }
   ],
   "source": [
    "days_match"
   ]
  },
  {
   "cell_type": "code",
   "execution_count": 53,
   "id": "3c8787f5",
   "metadata": {},
   "outputs": [],
   "source": [
    "opening_hours_pattern = re.compile(r'\\b(\\d{1,2}:\\d{2}\\s*[apm. ]{0,2})\\s*-\\s*(\\d{1,2}:\\d{2}\\s*[apm. ]{0,2})\\b')\n",
    "\n",
    "# Example usage:\n",
    "time_range_string = 'Mon-Thu 11 am - 11 pm '\n",
    "match = opening_hours_pattern.match(time_range_string)"
   ]
  },
  {
   "cell_type": "code",
   "execution_count": 54,
   "id": "cad2f405",
   "metadata": {},
   "outputs": [],
   "source": [
    "match"
   ]
  },
  {
   "cell_type": "code",
   "execution_count": 45,
   "id": "583c8ad1",
   "metadata": {},
   "outputs": [],
   "source": [
    "if len(days_match) > 1:\n",
    "    start_index = all_days.index(days_match[0])\n",
    "    end_index = all_days.index(days_match[1])\n",
    "    day_range = all_days[start_index:end_index + 1]\n",
    "    for d in day_range:\n",
    "        "
   ]
  },
  {
   "cell_type": "code",
   "execution_count": 46,
   "id": "83e71ae8",
   "metadata": {},
   "outputs": [
    {
     "data": {
      "text/plain": [
       "['Mon', 'Tue', 'Wed', 'Thu']"
      ]
     },
     "execution_count": 46,
     "metadata": {},
     "output_type": "execute_result"
    }
   ],
   "source": [
    "day_range"
   ]
  },
  {
   "cell_type": "code",
   "execution_count": null,
   "id": "4954d1eb",
   "metadata": {},
   "outputs": [],
   "source": []
  },
  {
   "cell_type": "code",
   "execution_count": 33,
   "id": "3f21145e",
   "metadata": {},
   "outputs": [
    {
     "data": {
      "text/plain": [
       "['Mon', 'Thu']"
      ]
     },
     "execution_count": 33,
     "metadata": {},
     "output_type": "execute_result"
    }
   ],
   "source": [
    "days_pattern.findall(periods[0])"
   ]
  },
  {
   "cell_type": "code",
   "execution_count": 34,
   "id": "c336e82d",
   "metadata": {},
   "outputs": [],
   "source": [
    "for period in periods:\n",
    "    days_match = days_pattern.findall(period)\n",
    "    time_match = time_pattern.findall(period)\n",
    "\n",
    "    if days_match and time_match:\n",
    "        for day in days_match:\n",
    "            opening_hours[day] = time_match"
   ]
  },
  {
   "cell_type": "code",
   "execution_count": 35,
   "id": "7a2c9500",
   "metadata": {},
   "outputs": [
    {
     "data": {
      "text/plain": [
       "{'Fri': ['12:30 am'], 'Sat': ['12:30 am']}"
      ]
     },
     "execution_count": 35,
     "metadata": {},
     "output_type": "execute_result"
    }
   ],
   "source": [
    "opening_hours"
   ]
  },
  {
   "cell_type": "code",
   "execution_count": 57,
   "id": "0a57b2d9",
   "metadata": {},
   "outputs": [],
   "source": [
    "import pandas as pd"
   ]
  },
  {
   "cell_type": "code",
   "execution_count": 59,
   "id": "9b2d5cc6",
   "metadata": {},
   "outputs": [],
   "source": [
    "data = pd.read_csv('restaurants.csv')"
   ]
  },
  {
   "cell_type": "code",
   "execution_count": 61,
   "id": "bc439929",
   "metadata": {},
   "outputs": [
    {
     "data": {
      "text/plain": [
       "0                              Mon-Sun 11:00 am - 10 pm\n",
       "1                               Mon-Sun 11 am - 9:30 pm\n",
       "2       Mon-Fri, Sat 11 am - 12 pm  / Sun 11 am - 10 pm\n",
       "3     Tues-Fri, Sun 11:30 am - 10 pm  / Sat 5:30 pm ...\n",
       "4                              Mon-Sun 11:30 am - 10 pm\n",
       "5                                  Mon-Sun 5 pm - 10 pm\n",
       "6                                 Mon-Sun 11 am - 12 am\n",
       "7     Mon-Thu, Sun 11:30 am - 10 pm  / Fri-Sat 11:30...\n",
       "8     Mon-Thu 11 am - 11 pm  / Fri-Sat 11 am - 12:30...\n",
       "9     Mon-Thu, Sun 9 am - 10 pm  / Fri-Sat 9 am - 11 pm\n",
       "10    Mon-Thu, Sun 11:30 am - 9:30 pm  / Fri-Sat 11:...\n",
       "11           Mon-Sat 11 am - 11 pm  / Sun 11 am - 10 pm\n",
       "12    Mon-Thu 11:30 am - 10 pm  / Fri-Sun 11:30 am -...\n",
       "13                                Mon-Sun 11 am - 11 pm\n",
       "14    Mon-Fri 10:30 am - 9:30 pm  / Sat-Sun 10 am - ...\n",
       "15                          Mon-Sun 11:30 am - 10:30 pm\n",
       "16                             Mon-Sun 11 am - 10:30 pm\n",
       "17    Mon-Thu, Sun 11:30 am - 9 pm  / Fri-Sat 11:30 ...\n",
       "18    Mon-Wed 5 pm - 12:30 am  / Thu-Fri 5 pm - 1:30...\n",
       "19                                Mon-Sun 11 am - 10 pm\n",
       "20    Mon-Thu 11 am - 10 pm  / Fri-Sat 10 am - 10:30...\n",
       "21           Mon-Sat 11 am - 10 pm  / Sun 12 pm - 10 pm\n",
       "22                                Mon-Sun 11 am - 10 pm\n",
       "23    Mon-Thu, Sun 11 am - 10 pm  / Fri-Sat 11 am - ...\n",
       "24      Mon-Fri 11:30 am - 10 pm  / Sat-Sun 7 am - 3 pm\n",
       "25                                 Mon-Sun 11 am - 4 am\n",
       "26    Mon-Thu, Sun 11:30 am - 10 pm  / Fri-Sat 11:30...\n",
       "27                           Mon-Sun 11:30 am - 9:30 pm\n",
       "28                                Mon-Sun 11 am - 12 am\n",
       "29                             Mon-Sun 11:30 am - 10 pm\n",
       "30      Mon-Sat 11:30 am - 10 pm  / Sun 5:30 pm - 10 pm\n",
       "31                                Mon-Sun 11 am - 11 pm\n",
       "32                           Mon, Wed-Sun 11 am - 10 pm\n",
       "33                             Mon-Sun 11 am - 10:30 pm\n",
       "34    Mon-Fri 10 am - 9:30 pm  / Sat-Sun 9:30 am - 9...\n",
       "35            Mon-Sat 11 am - 12 am  / Sun 12 pm - 2 am\n",
       "36              Mon-Fri 11 am - 9 pm  / Sat 5 pm - 9 pm\n",
       "37      Mon-Fri 11:30 am - 10 pm  / Sat 5:30 pm - 10 pm\n",
       "38    Mon-Thu, Sun 11 am - 10 pm  / Fri-Sat 11 am - ...\n",
       "39        Mon-Fri 11 am - 10 pm  / Sat-Sun 5 pm - 10 pm\n",
       "Name: Hours, dtype: object"
      ]
     },
     "execution_count": 61,
     "metadata": {},
     "output_type": "execute_result"
    }
   ],
   "source": [
    "data['Hours']"
   ]
  },
  {
   "cell_type": "code",
   "execution_count": 204,
   "id": "739d92c8",
   "metadata": {},
   "outputs": [],
   "source": [
    "row = data['Restaurant Name'][23]"
   ]
  },
  {
   "cell_type": "code",
   "execution_count": 207,
   "id": "619cad4d",
   "metadata": {},
   "outputs": [],
   "source": [
    "rest_name = row"
   ]
  },
  {
   "cell_type": "code",
   "execution_count": 205,
   "id": "190006a8",
   "metadata": {},
   "outputs": [
    {
     "data": {
      "text/plain": [
       "'Taverna Agora'"
      ]
     },
     "execution_count": 205,
     "metadata": {},
     "output_type": "execute_result"
    }
   ],
   "source": [
    "row"
   ]
  },
  {
   "cell_type": "code",
   "execution_count": 180,
   "id": "708e86ba",
   "metadata": {},
   "outputs": [],
   "source": []
  },
  {
   "cell_type": "code",
   "execution_count": 210,
   "id": "fa3c6bf7",
   "metadata": {},
   "outputs": [],
   "source": []
  },
  {
   "cell_type": "code",
   "execution_count": 202,
   "id": "570689da",
   "metadata": {},
   "outputs": [
    {
     "name": "stdout",
     "output_type": "stream",
     "text": [
      "{'Mon': {'open': '11:00:00', 'close': '22:00:00'}, 'Tues': {'open': '11:00:00', 'close': '22:00:00'}, 'Wed': {'open': '11:00:00', 'close': '22:00:00'}, 'Thu': {'open': '11:00:00', 'close': '22:00:00'}, 'Sun': {'open': '11:00:00', 'close': '22:00:00'}, 'Fri': {'open': '11:00:00', 'close': '00:00:00'}, 'Sat': {'open': '11:00:00', 'close': '00:00:00'}}\n"
     ]
    }
   ],
   "source": [
    "hours = row.split(\"/\")\n",
    "rest_name = row\n",
    "\n",
    "all_restaurant_record = {}\n",
    "days_pattern = re.compile(r'(Mon|Tues|Wed|Thu|Fri|Sat|Sun)')\n",
    "curr_record = {}\n",
    "for h in hours:\n",
    "    ranged_days = re.search(r'([a-zA-Z]+)-([a-zA-Z]+)', h)\n",
    "    if ranged_days:\n",
    "        start_day, end_day = ranged_days.groups()\n",
    "        filled_in_days = get_missing_days(start_day, end_day)\n",
    "        \n",
    "        for d in days_pattern.findall(h):\n",
    "            if d not in filled_in_days:\n",
    "                filled_in_days.append(d)\n",
    "                \n",
    "        curr_all_days = filled_in_days\n",
    "        \n",
    "        \n",
    "    else:\n",
    "        curr_all_days = days_pattern.findall(h)\n",
    "             \n",
    "    \n",
    "    \n",
    "    time_begins_at = re.search(r'\\d', h).start()\n",
    "    time_string = h[time_begins_at:]\n",
    "    \n",
    "    start_time = convert_to_24_hour_format(time_string.split(\"-\")[0].strip())\n",
    "    end_time = convert_to_24_hour_format(time_string.split(\"-\")[1].strip())\n",
    "\n",
    "    curr_record.update({day: {\"open\": start_time, \"close\": end_time} for day in curr_all_days})\n",
    "all_restaurant_record.update({rest_name:curr_record})"
   ]
  },
  {
   "cell_type": "code",
   "execution_count": 212,
   "id": "a0d9441c",
   "metadata": {},
   "outputs": [],
   "source": []
  },
  {
   "cell_type": "code",
   "execution_count": 213,
   "id": "f04f4352",
   "metadata": {},
   "outputs": [
    {
     "data": {
      "text/plain": [
       "{'Taverna Agora': {'Mon': {'open': '11:00:00', 'close': '22:00:00'},\n",
       "  'Tues': {'open': '11:00:00', 'close': '22:00:00'},\n",
       "  'Wed': {'open': '11:00:00', 'close': '22:00:00'},\n",
       "  'Thu': {'open': '11:00:00', 'close': '22:00:00'},\n",
       "  'Sun': {'open': '11:00:00', 'close': '22:00:00'},\n",
       "  'Fri': {'open': '11:00:00', 'close': '00:00:00'},\n",
       "  'Sat': {'open': '11:00:00', 'close': '00:00:00'}}}"
      ]
     },
     "execution_count": 213,
     "metadata": {},
     "output_type": "execute_result"
    }
   ],
   "source": [
    "all_restaurant_record"
   ]
  },
  {
   "cell_type": "code",
   "execution_count": 194,
   "id": "c15ab362",
   "metadata": {},
   "outputs": [],
   "source": [
    "d = ['Mon', 'Tues', 'Wed', 'Thu', 'Sun']\n",
    "open_time = '11:00:00'\n",
    "close_time = '19:00:00'"
   ]
  },
  {
   "cell_type": "code",
   "execution_count": 195,
   "id": "0dc4e9ab",
   "metadata": {},
   "outputs": [
    {
     "data": {
      "text/plain": [
       "{'Mon': {'open': '11:00:00', 'close': '19:00:00'},\n",
       " 'Tues': {'open': '11:00:00', 'close': '19:00:00'},\n",
       " 'Wed': {'open': '11:00:00', 'close': '19:00:00'},\n",
       " 'Thu': {'open': '11:00:00', 'close': '19:00:00'},\n",
       " 'Sun': {'open': '11:00:00', 'close': '19:00:00'}}"
      ]
     },
     "execution_count": 195,
     "metadata": {},
     "output_type": "execute_result"
    }
   ],
   "source": []
  },
  {
   "cell_type": "code",
   "execution_count": 196,
   "id": "aa666462",
   "metadata": {},
   "outputs": [],
   "source": [
    "record = {}"
   ]
  },
  {
   "cell_type": "code",
   "execution_count": 197,
   "id": "b21984d0",
   "metadata": {},
   "outputs": [],
   "source": [
    "record.update({day: {\"open\": open_time, \"close\": close_time} for day in d})"
   ]
  },
  {
   "cell_type": "code",
   "execution_count": 198,
   "id": "93c4d088",
   "metadata": {},
   "outputs": [
    {
     "data": {
      "text/plain": [
       "{'Mon': {'open': '11:00:00', 'close': '19:00:00'},\n",
       " 'Tues': {'open': '11:00:00', 'close': '19:00:00'},\n",
       " 'Wed': {'open': '11:00:00', 'close': '19:00:00'},\n",
       " 'Thu': {'open': '11:00:00', 'close': '19:00:00'},\n",
       " 'Sun': {'open': '11:00:00', 'close': '19:00:00'}}"
      ]
     },
     "execution_count": 198,
     "metadata": {},
     "output_type": "execute_result"
    }
   ],
   "source": [
    "record"
   ]
  },
  {
   "cell_type": "code",
   "execution_count": 166,
   "id": "088681a3",
   "metadata": {},
   "outputs": [],
   "source": [
    "def convert_to_24_hour_format(original_time):\n",
    "    \n",
    " \n",
    "    am_pm_mapping = {'am': 'AM', 'pm': 'PM'}\n",
    "\n",
    "    if \":\" in original_time:\n",
    "        \n",
    "        updated_time = datetime.strptime(original_time, '%I:%M %p')\n",
    "    else:\n",
    "        updated_time = datetime.strptime(original_time, '%I %p')\n",
    "\n",
    "    updated_time_24h = updated_time.strftime('%H:%M:%S')\n",
    "\n",
    "\n",
    "    return updated_time_24h\n"
   ]
  },
  {
   "cell_type": "code",
   "execution_count": null,
   "id": "246db5f7",
   "metadata": {},
   "outputs": [],
   "source": []
  },
  {
   "cell_type": "code",
   "execution_count": 157,
   "id": "fcc3ecb4",
   "metadata": {},
   "outputs": [],
   "source": [
    "all_days = ['Sun', 'Mon', 'Tues', 'Wed', 'Thu', 'Fri', 'Sat']\n",
    "def get_missing_days(start_day, end_day):\n",
    "    start_index = all_days.index(start_day)\n",
    "    end_index = all_days.index(end_day)\n",
    "    day_range = all_days[start_index:end_index + 1]\n",
    "    return day_range"
   ]
  },
  {
   "cell_type": "code",
   "execution_count": null,
   "id": "eab5baa4",
   "metadata": {},
   "outputs": [],
   "source": []
  },
  {
   "cell_type": "code",
   "execution_count": 138,
   "id": "26476642",
   "metadata": {},
   "outputs": [],
   "source": []
  },
  {
   "cell_type": "code",
   "execution_count": 120,
   "id": "411d9a64",
   "metadata": {},
   "outputs": [],
   "source": [
    "pattern = re.compile(r'(\\d{1,2}:\\d{2} [apmAPM]+) - (\\d{1,2}:\\d{2} [apmAPM]+)')"
   ]
  },
  {
   "cell_type": "code",
   "execution_count": 124,
   "id": "63baa401",
   "metadata": {},
   "outputs": [],
   "source": [
    "match = re.search(r'\\d','Tues-Fri, Sun 11:30 am - 10 pm' )\n",
    "h[match.start():]"
   ]
  },
  {
   "cell_type": "code",
   "execution_count": 164,
   "id": "b2a9c23e",
   "metadata": {},
   "outputs": [
    {
     "name": "stdout",
     "output_type": "stream",
     "text": [
      "11:30 am\n"
     ]
    },
    {
     "data": {
      "text/plain": [
       "'11:30:00'"
      ]
     },
     "execution_count": 164,
     "metadata": {},
     "output_type": "execute_result"
    }
   ],
   "source": [
    "convert_to_24_hour_format(\"11:30 am \".strip())"
   ]
  },
  {
   "cell_type": "code",
   "execution_count": 162,
   "id": "a29e27ec",
   "metadata": {},
   "outputs": [
    {
     "data": {
      "text/plain": [
       "'11:30 am '"
      ]
     },
     "execution_count": 162,
     "metadata": {},
     "output_type": "execute_result"
    }
   ],
   "source": [
    "time_string.split(\"-\")[0]"
   ]
  },
  {
   "cell_type": "code",
   "execution_count": 109,
   "id": "f1a2c964",
   "metadata": {},
   "outputs": [],
   "source": []
  },
  {
   "cell_type": "code",
   "execution_count": 94,
   "id": "79a84b0e",
   "metadata": {},
   "outputs": [
    {
     "name": "stdout",
     "output_type": "stream",
     "text": [
      "\n"
     ]
    }
   ],
   "source": [
    "import re\n",
    "\n",
    "def replace_range_with_days(original_string):\n",
    "    # Define the days of the week\n",
    "    all_days = ['Mon', 'Tues', 'Wed', 'Thu', 'Fri', 'Sat', 'Sun']\n",
    "\n",
    "    # Extract the day range from the original string using regex\n",
    "    match = re.search(r'([a-zA-Z]+)-([a-zA-Z]+)', original_string)\n",
    "\n",
    "    if match:\n",
    "        start_day, end_day = match.groups()\n",
    "\n",
    "        # Generate the list of days in between\n",
    "        days_in_between = [day for day in all_days if start_day <= day <= end_day]\n",
    "\n",
    "        # Replace the original string with the list of days\n",
    "        new_string = original_string.replace(match.group(), ', '.join(days_in_between))\n",
    "\n",
    "        return new_string\n",
    "    else:\n",
    "        return \"No day range found in the original string.\"\n",
    "\n",
    "# Example usage\n",
    "original_string = \"Tues-Sun\"\n",
    "result = replace_range_with_days(original_string)\n",
    "print(result)\n"
   ]
  },
  {
   "cell_type": "code",
   "execution_count": 99,
   "id": "a0f0ddd4",
   "metadata": {},
   "outputs": [
    {
     "data": {
      "text/plain": [
       "('Mon', 'Thu')"
      ]
     },
     "execution_count": 99,
     "metadata": {},
     "output_type": "execute_result"
    }
   ],
   "source": [
    "match = re.search(r'([a-zA-Z]+)-([a-zA-Z]+)', 'Mon-Thu, Sun 11 am - 10 pm')\n",
    "start_day, end_day = match.groups()\n",
    "match.groups()"
   ]
  },
  {
   "cell_type": "code",
   "execution_count": 170,
   "id": "175d1500",
   "metadata": {},
   "outputs": [],
   "source": [
    "a = [1,2,3]"
   ]
  },
  {
   "cell_type": "code",
   "execution_count": 173,
   "id": "a762e32a",
   "metadata": {},
   "outputs": [
    {
     "ename": "TypeError",
     "evalue": "insert expected 2 arguments, got 1",
     "output_type": "error",
     "traceback": [
      "\u001b[0;31m---------------------------------------------------------------------------\u001b[0m",
      "\u001b[0;31mTypeError\u001b[0m                                 Traceback (most recent call last)",
      "Input \u001b[0;32mIn [173]\u001b[0m, in \u001b[0;36m<cell line: 1>\u001b[0;34m()\u001b[0m\n\u001b[0;32m----> 1\u001b[0m \u001b[43ma\u001b[49m\u001b[38;5;241;43m.\u001b[39;49m\u001b[43minsert\u001b[49m\u001b[43m(\u001b[49m\u001b[43m[\u001b[49m\u001b[38;5;241;43m4\u001b[39;49m\u001b[43m,\u001b[49m\u001b[38;5;241;43m5\u001b[39;49m\u001b[43m,\u001b[49m\u001b[38;5;241;43m6\u001b[39;49m\u001b[43m]\u001b[49m\u001b[43m)\u001b[49m\n",
      "\u001b[0;31mTypeError\u001b[0m: insert expected 2 arguments, got 1"
     ]
    }
   ],
   "source": [
    "a.insert([4,5,6])"
   ]
  },
  {
   "cell_type": "code",
   "execution_count": 172,
   "id": "a40b76aa",
   "metadata": {},
   "outputs": [
    {
     "data": {
      "text/plain": [
       "[1, 2, 3, [4, 5, 6]]"
      ]
     },
     "execution_count": 172,
     "metadata": {},
     "output_type": "execute_result"
    }
   ],
   "source": [
    "a"
   ]
  },
  {
   "cell_type": "code",
   "execution_count": null,
   "id": "ea467727",
   "metadata": {},
   "outputs": [],
   "source": []
  },
  {
   "cell_type": "code",
   "execution_count": 243,
   "id": "caeec581",
   "metadata": {},
   "outputs": [],
   "source": [
    "def get_open_restaurants(dt):\n",
    "    \"\"\"Query the database for open restaurants based on the provided datetime.\"\"\"\n",
    "    conn = sqlite3.connect(\"restaurant_data.db\")\n",
    "    c = conn.cursor()\n",
    "\n",
    "    day_of_week = dt.strftime('%a').lower()\n",
    "    current_time = dt.strftime('%I:%M %p').lstrip('0').lower()\n",
    "\n",
    "    query = f\"SELECT restaurant_name FROM restaurant_hours WHERE {day_of_week} IS NOT NULL AND {day_of_week} LIKE '%' || SUBSTR({day_of_week}, 1, INSTR({day_of_week}, '-') - 1) || '%' AND SUBSTR({day_of_week}, INSTR({day_of_week}, '-') + 1) > '{current_time}'\"\n",
    "\n",
    "    c.execute(query)\n",
    "    result = c.fetchall()\n",
    "\n",
    "    conn.close()\n",
    "\n",
    "    return [row[0] for row in result]"
   ]
  },
  {
   "cell_type": "code",
   "execution_count": 304,
   "id": "95dd4f24",
   "metadata": {},
   "outputs": [],
   "source": [
    "datetime_param = \"2023-12-24 00:30:00\"\n",
    "dt = datetime.strptime(datetime_param, '%Y-%m-%d %H:%M:%S')"
   ]
  },
  {
   "cell_type": "code",
   "execution_count": 305,
   "id": "0ed2a5d7",
   "metadata": {},
   "outputs": [],
   "source": [
    "day_of_week = dt.strftime('%a').lower()\n",
    "current_time = dt.strftime('%H:%M:%S').lstrip('0').lower()\n",
    "day_before = (dt - timedelta(days=1)).strftime('%a').lower()"
   ]
  },
  {
   "cell_type": "code",
   "execution_count": 322,
   "id": "d05a5527",
   "metadata": {},
   "outputs": [],
   "source": [
    "if current_time.startswith(\":\"):\n",
    "    current_time = '00:' + current_time[1:]"
   ]
  },
  {
   "cell_type": "code",
   "execution_count": 324,
   "id": "faabd0c7",
   "metadata": {},
   "outputs": [
    {
     "data": {
      "text/plain": [
       "'00:30:00'"
      ]
     },
     "execution_count": 324,
     "metadata": {},
     "output_type": "execute_result"
    }
   ],
   "source": [
    "current_time"
   ]
  },
  {
   "cell_type": "code",
   "execution_count": 325,
   "id": "acf76a8f",
   "metadata": {},
   "outputs": [],
   "source": [
    "normal_ = ''' select distinct(restaurant_name) from restaurant_hours where \n",
    "            LOWER(SUBSTR(day_of_week, 1, 3)) \n",
    "            = \"{}\" and time(\"{}\") BETWEEN TIME(open_time) AND TIME(close_time);'''.format(day_of_week, current_time)"
   ]
  },
  {
   "cell_type": "code",
   "execution_count": 326,
   "id": "14491204",
   "metadata": {},
   "outputs": [
    {
     "data": {
      "text/plain": [
       "<sqlite3.Cursor at 0x12a00ef10>"
      ]
     },
     "execution_count": 326,
     "metadata": {},
     "output_type": "execute_result"
    }
   ],
   "source": [
    "conn = sqlite3.connect(\"restaurant_data.db\")\n",
    "c = conn.cursor()\n",
    "c.execute(normal_)"
   ]
  },
  {
   "cell_type": "code",
   "execution_count": 327,
   "id": "4dd27bcf",
   "metadata": {},
   "outputs": [],
   "source": [
    "res_1 = c.fetchall()"
   ]
  },
  {
   "cell_type": "code",
   "execution_count": 328,
   "id": "8849cc8d",
   "metadata": {},
   "outputs": [
    {
     "data": {
      "text/plain": [
       "[]"
      ]
     },
     "execution_count": 328,
     "metadata": {},
     "output_type": "execute_result"
    }
   ],
   "source": [
    "res_1"
   ]
  },
  {
   "cell_type": "code",
   "execution_count": 329,
   "id": "18e9f7dc",
   "metadata": {},
   "outputs": [],
   "source": [
    "later_midnight = ''' SELECT  * from restaurant_hours where LOWER(SUBSTR(day_of_week, 1, 3))  = \"{}\" and TIME(close_time) < TIME(open_time) and TIME(close_time) <> \"00:00:00\" and TIME(close_time) > TIME(\"{}\") '''.format(day_before, current_time)"
   ]
  },
  {
   "cell_type": "code",
   "execution_count": 330,
   "id": "18289bd6",
   "metadata": {},
   "outputs": [
    {
     "data": {
      "text/plain": [
       "<sqlite3.Cursor at 0x12a00edc0>"
      ]
     },
     "execution_count": 330,
     "metadata": {},
     "output_type": "execute_result"
    }
   ],
   "source": [
    "conn = sqlite3.connect(\"restaurant_data.db\")\n",
    "c = conn.cursor()\n",
    "c.execute(later_midnight)"
   ]
  },
  {
   "cell_type": "code",
   "execution_count": 331,
   "id": "cc25b933",
   "metadata": {},
   "outputs": [],
   "source": [
    "res_2 = c.fetchall()"
   ]
  },
  {
   "cell_type": "code",
   "execution_count": 332,
   "id": "2ddeb78d",
   "metadata": {},
   "outputs": [
    {
     "data": {
      "text/plain": [
       "[(90, 'Bonchon', 'Sat', '15:00:00', '01:30:00'),\n",
       " (282, 'Bonchon', 'Sat', '15:00:00', '01:30:00')]"
      ]
     },
     "execution_count": 332,
     "metadata": {},
     "output_type": "execute_result"
    }
   ],
   "source": [
    "res_2"
   ]
  },
  {
   "cell_type": "code",
   "execution_count": 317,
   "id": "a8ad8b15",
   "metadata": {},
   "outputs": [
    {
     "data": {
      "text/plain": [
       "' SELECT  * from restaurant_hours where LOWER(SUBSTR(day_of_week, 1, 3))  = \"sat\" and TIME(close_time) < TIME(open_time) and TIME(close_time) <> \"00:00:00\" and TIME(close_time) > TIME(\":30:00\") '"
      ]
     },
     "execution_count": 317,
     "metadata": {},
     "output_type": "execute_result"
    }
   ],
   "source": [
    "later_midnight"
   ]
  },
  {
   "cell_type": "code",
   "execution_count": 287,
   "id": "65c7e0d8",
   "metadata": {},
   "outputs": [
    {
     "data": {
      "text/plain": [
       "' select distinct(restaurant_name) from restaurant_hours where \\n            LOWER(SUBSTR(day_of_week, 1, 3)) \\n            = fri and time(12:00:00) BETWEEN TIME(open_time) AND TIME(close_time);'"
      ]
     },
     "execution_count": 287,
     "metadata": {},
     "output_type": "execute_result"
    }
   ],
   "source": [
    "normal_"
   ]
  },
  {
   "cell_type": "code",
   "execution_count": null,
   "id": "ceafbde7",
   "metadata": {},
   "outputs": [],
   "source": []
  }
 ],
 "metadata": {
  "kernelspec": {
   "display_name": "Python 3 (ipykernel)",
   "language": "python",
   "name": "python3"
  },
  "language_info": {
   "codemirror_mode": {
    "name": "ipython",
    "version": 3
   },
   "file_extension": ".py",
   "mimetype": "text/x-python",
   "name": "python",
   "nbconvert_exporter": "python",
   "pygments_lexer": "ipython3",
   "version": "3.9.12"
  }
 },
 "nbformat": 4,
 "nbformat_minor": 5
}
